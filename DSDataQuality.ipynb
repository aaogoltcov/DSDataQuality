{
 "cells": [
  {
   "cell_type": "code",
   "execution_count": 1,
   "metadata": {},
   "outputs": [],
   "source": [
    "import pandas as pd\n",
    "import numpy as np\n",
    "from sklearn.linear_model import LinearRegression\n",
    "from sklearn.metrics import mean_absolute_error\n",
    "from sklearn.preprocessing import PolynomialFeatures\n",
    "from sklearn.decomposition import PCA\n",
    "from sklearn.pipeline import Pipeline\n",
    "from sklearn.model_selection import GridSearchCV\n",
    "from sklearn.preprocessing import StandardScaler"
   ]
  },
  {
   "cell_type": "code",
   "execution_count": 2,
   "metadata": {},
   "outputs": [
    {
     "data": {
      "text/html": [
       "<div>\n",
       "<style scoped>\n",
       "    .dataframe tbody tr th:only-of-type {\n",
       "        vertical-align: middle;\n",
       "    }\n",
       "\n",
       "    .dataframe tbody tr th {\n",
       "        vertical-align: top;\n",
       "    }\n",
       "\n",
       "    .dataframe thead th {\n",
       "        text-align: right;\n",
       "    }\n",
       "</style>\n",
       "<table border=\"1\" class=\"dataframe\">\n",
       "  <thead>\n",
       "    <tr style=\"text-align: right;\">\n",
       "      <th></th>\n",
       "      <th>outside_temperature</th>\n",
       "      <th>inside_temperature</th>\n",
       "      <th>gas_humidity</th>\n",
       "      <th>outside_humidity</th>\n",
       "      <th>inside_humidity</th>\n",
       "      <th>boiler_power</th>\n",
       "      <th>speed_coolant</th>\n",
       "      <th>cost_heating</th>\n",
       "    </tr>\n",
       "  </thead>\n",
       "  <tbody>\n",
       "    <tr>\n",
       "      <th>0</th>\n",
       "      <td>12</td>\n",
       "      <td>23</td>\n",
       "      <td>36</td>\n",
       "      <td>68</td>\n",
       "      <td>43</td>\n",
       "      <td>17</td>\n",
       "      <td>2</td>\n",
       "      <td>462.139535</td>\n",
       "    </tr>\n",
       "    <tr>\n",
       "      <th>1</th>\n",
       "      <td>32</td>\n",
       "      <td>22</td>\n",
       "      <td>32</td>\n",
       "      <td>62</td>\n",
       "      <td>48</td>\n",
       "      <td>12</td>\n",
       "      <td>1</td>\n",
       "      <td>2424.888889</td>\n",
       "    </tr>\n",
       "    <tr>\n",
       "      <th>2</th>\n",
       "      <td>34</td>\n",
       "      <td>17</td>\n",
       "      <td>23</td>\n",
       "      <td>72</td>\n",
       "      <td>56</td>\n",
       "      <td>30</td>\n",
       "      <td>1</td>\n",
       "      <td>569.742857</td>\n",
       "    </tr>\n",
       "    <tr>\n",
       "      <th>3</th>\n",
       "      <td>13</td>\n",
       "      <td>22</td>\n",
       "      <td>35</td>\n",
       "      <td>84</td>\n",
       "      <td>56</td>\n",
       "      <td>20</td>\n",
       "      <td>1</td>\n",
       "      <td>750.750000</td>\n",
       "    </tr>\n",
       "    <tr>\n",
       "      <th>4</th>\n",
       "      <td>28</td>\n",
       "      <td>19</td>\n",
       "      <td>38</td>\n",
       "      <td>92</td>\n",
       "      <td>26</td>\n",
       "      <td>22</td>\n",
       "      <td>3</td>\n",
       "      <td>1083.841492</td>\n",
       "    </tr>\n",
       "  </tbody>\n",
       "</table>\n",
       "</div>"
      ],
      "text/plain": [
       "   outside_temperature  inside_temperature  gas_humidity  outside_humidity  \\\n",
       "0                   12                  23            36                68   \n",
       "1                   32                  22            32                62   \n",
       "2                   34                  17            23                72   \n",
       "3                   13                  22            35                84   \n",
       "4                   28                  19            38                92   \n",
       "\n",
       "   inside_humidity  boiler_power  speed_coolant  cost_heating  \n",
       "0               43            17              2    462.139535  \n",
       "1               48            12              1   2424.888889  \n",
       "2               56            30              1    569.742857  \n",
       "3               56            20              1    750.750000  \n",
       "4               26            22              3   1083.841492  "
      ]
     },
     "execution_count": 2,
     "metadata": {},
     "output_type": "execute_result"
    }
   ],
   "source": [
    "# Создаем сэмпл, который определяет стоимость затрат на отопление в минусовой период времени\n",
    "n_samples = 1000\n",
    "outside_temperature = np.random.randint(0, 45, n_samples) # ниже нуля в абсолютно значении\n",
    "inside_temperature = np.random.randint(15, 25, n_samples)\n",
    "gas_humidity = np.random.randint(10, 90, n_samples)\n",
    "outside_humidity = np.random.randint(50, 95, n_samples)\n",
    "inside_humidity = np.random.randint(20, 60, n_samples)\n",
    "boiler_power = np.random.randint(2, 34, n_samples)\n",
    "speed_coolant = np.random.randint(1, 4, n_samples)\n",
    "\n",
    "cost_heating = (outside_temperature \n",
    " * inside_temperature \n",
    " * gas_humidity \n",
    " * outside_humidity \n",
    " / inside_humidity \n",
    " / boiler_power \n",
    " / speed_coolant)\n",
    "\n",
    "data = (pd.DataFrame({'outside_temperature': outside_temperature,\n",
    "                      'inside_temperature': inside_temperature, \n",
    "                      'gas_humidity': gas_humidity, \n",
    "                      'outside_humidity': outside_humidity, \n",
    "                      'inside_humidity': inside_humidity, \n",
    "                      'boiler_power': boiler_power, \n",
    "                      'speed_coolant': speed_coolant,\n",
    "                      'cost_heating': cost_heating,\n",
    "                     }))\n",
    "data.head(5)"
   ]
  },
  {
   "cell_type": "code",
   "execution_count": 3,
   "metadata": {},
   "outputs": [
    {
     "name": "stdout",
     "output_type": "stream",
     "text": [
      "Weights: [  122.68823995    86.281834      57.10526986    44.41852298\n",
      "   -91.84827807  -219.3819453  -1338.80699828]\n",
      "Bias: 2399.092074944882\n",
      "Error: 2208.868178746886\n"
     ]
    }
   ],
   "source": [
    "# Строим линейную регрессию\n",
    "X = data[['outside_temperature', \n",
    "          'inside_temperature', \n",
    "          'gas_humidity', \n",
    "          'outside_humidity', \n",
    "          'inside_humidity',\n",
    "          'boiler_power',\n",
    "          'speed_coolant',\n",
    "         ]]\n",
    "y = data['cost_heating']\n",
    "reg = LinearRegression().fit(X, y)\n",
    "print('Weights: {}'.format(reg.coef_))\n",
    "print('Bias: {}'.format(reg.intercept_))\n",
    "pred_values = reg.predict(X)\n",
    "print('Error: {}'.format(mean_absolute_error(pred_values, y)))"
   ]
  },
  {
   "cell_type": "code",
   "execution_count": 4,
   "metadata": {},
   "outputs": [],
   "source": [
    "# Полученная модель плохо описывает затраты на отопление"
   ]
  },
  {
   "cell_type": "code",
   "execution_count": 5,
   "metadata": {},
   "outputs": [
    {
     "name": "stdout",
     "output_type": "stream",
     "text": [
      "Наименьшая ошибка: 2274.0856557858256,\n",
      "конечный список параметров ['outside_temperature', 'boiler_power', 'speed_coolant']\n"
     ]
    }
   ],
   "source": [
    "# Пробуем вычислить параметры, которые лучше всего влияют на точность модели\n",
    "def get_better_error_with_different_variables(list_of_x, data, y):\n",
    "    final_list_of_parameters = []\n",
    "    better_error = max(y)\n",
    "    for _ in list_of_x:\n",
    "        interim_list_of_parameters = []\n",
    "        interim_list_of_parameters.extend(final_list_of_parameters)\n",
    "        interim_list_of_parameters.append(_)\n",
    "        X = data[interim_list_of_parameters]\n",
    "        reg = LinearRegression().fit(X, y)\n",
    "        pred_values = reg.predict(X)\n",
    "        error = mean_absolute_error(pred_values, y)\n",
    "        if error < better_error:\n",
    "            better_error = error\n",
    "            final_list_of_parameters.append(_)\n",
    "    print(f'Наименьшая ошибка: {better_error},\\nконечный список параметров {final_list_of_parameters}')\n",
    "\n",
    "list_of_x = ['outside_temperature', 'inside_temperature', 'gas_humidity', 'outside_humidity', 'inside_humidity', 'boiler_power', 'speed_coolant']\n",
    "get_better_error_with_different_variables(list_of_x, data, y)    "
   ]
  },
  {
   "cell_type": "code",
   "execution_count": 6,
   "metadata": {},
   "outputs": [],
   "source": [
    "# Вариант с уточнение списка наиболее значимых параметров также не дал эффект"
   ]
  },
  {
   "cell_type": "code",
   "execution_count": 7,
   "metadata": {},
   "outputs": [
    {
     "name": "stdout",
     "output_type": "stream",
     "text": [
      "Weights: [-1.87888433e-10  9.36957266e+01  1.16443065e+02  1.18838837e+02\n",
      "  5.18454581e+01 -2.10775020e+02 -5.77630578e+02 -1.47994520e+03\n",
      "  1.14661252e+00  6.78741598e+00  3.05680277e+00  3.38442390e+00\n",
      " -5.56146716e+00 -1.11339372e+01 -6.47083246e+01  1.78061623e+00\n",
      "  1.12255439e+00 -6.42480291e-01  1.12916884e+00 -7.77919625e+00\n",
      " -6.75599727e+01  4.31816443e-01  1.24549663e+00 -2.78918042e+00\n",
      " -5.48877907e+00 -3.60457837e+01  4.96290838e-01 -1.60980683e+00\n",
      " -3.87928617e+00 -3.71509634e+01  2.82462803e+00  8.30605683e+00\n",
      "  5.74789828e+01  2.05101694e+01  1.24034956e+02  6.56684107e+02]\n",
      "Bias: 2853.464604510606\n",
      "Error: 1809.7973777354052\n"
     ]
    }
   ],
   "source": [
    "# Пробуем вариант с использование полиноминальных признаков\n",
    "X = data[['outside_temperature', \n",
    "          'inside_temperature', \n",
    "          'gas_humidity', \n",
    "          'outside_humidity', \n",
    "          'inside_humidity',\n",
    "          'boiler_power',\n",
    "          'speed_coolant',\n",
    "         ]]\n",
    "y = data['cost_heating']\n",
    "poly = PolynomialFeatures(2)\n",
    "X_poly = poly.fit_transform(X)\n",
    "reg = LinearRegression().fit(X_poly, y)\n",
    "print('Weights: {}'.format(reg.coef_))\n",
    "print('Bias: {}'.format(reg.intercept_))\n",
    "pred_values = reg.predict(X_poly)\n",
    "print('Error: {}'.format(mean_absolute_error(pred_values, y)))"
   ]
  },
  {
   "cell_type": "code",
   "execution_count": 8,
   "metadata": {},
   "outputs": [
    {
     "name": "stdout",
     "output_type": "stream",
     "text": [
      "Weights: [-6.47002490e-11  6.93113674e-07  1.06683478e-07 ... -1.54243893e-04\n",
      " -5.00462744e-05 -1.21857349e-05]\n",
      "Bias: 596.864443737491\n",
      "Error: 2.2743851749496002e-08\n"
     ]
    }
   ],
   "source": [
    "# Меняем степень полиноминального количества\n",
    "X = data[['outside_temperature', \n",
    "          'inside_temperature', \n",
    "          'gas_humidity', \n",
    "          'outside_humidity', \n",
    "          'inside_humidity',\n",
    "          'boiler_power',\n",
    "          'speed_coolant',\n",
    "         ]]\n",
    "y = data['cost_heating']\n",
    "poly = PolynomialFeatures(degree=6, include_bias=True, order='C')\n",
    "X_poly = poly.fit_transform(X)\n",
    "reg = LinearRegression().fit(X_poly, y)\n",
    "print('Weights: {}'.format(reg.coef_))\n",
    "print('Bias: {}'.format(reg.intercept_))\n",
    "pred_values = reg.predict(X_poly)\n",
    "print('Error: {}'.format(mean_absolute_error(pred_values, y)))"
   ]
  },
  {
   "cell_type": "code",
   "execution_count": 9,
   "metadata": {},
   "outputs": [],
   "source": [
    "# Использование полиноминальных признаков дает снижение ошибки, пробуем подобрать параметры признаков"
   ]
  },
  {
   "cell_type": "code",
   "execution_count": 12,
   "metadata": {},
   "outputs": [
    {
     "name": "stdout",
     "output_type": "stream",
     "text": [
      "Наименьшая ошибка - 7.108766436836333e-08\n",
      "Степень полиноминальных характеристик - 8\n",
      "Смещение - True\n",
      "Порядок вывода в массиве - F\n"
     ]
    }
   ],
   "source": [
    "best_error = max(y)\n",
    "for degree in range(1, 11, 1):\n",
    "    for include_bias in [True, False]:\n",
    "        for order in ['C', 'F']:\n",
    "            poly = PolynomialFeatures(degree=degree, include_bias=include_bias, order=order)\n",
    "            X_poly = poly.fit_transform(X)\n",
    "            reg = LinearRegression().fit(X_poly, y)\n",
    "            pred_values = reg.predict(X_poly)\n",
    "#             print(degree, include_bias, order)\n",
    "            error = mean_absolute_error(pred_values, y)\n",
    "            if error < best_error:\n",
    "                best_error = error\n",
    "                best_degree = degree\n",
    "                best_include_bias = include_bias\n",
    "                best_order = order\n",
    "\n",
    "print(f'Наименьшая ошибка - {error}\\n\\\n",
    "Степень полиноминальных характеристик - {best_degree}\\n\\\n",
    "Смещение - {best_include_bias}\\n\\\n",
    "Порядок вывода в массиве - {best_order}')"
   ]
  },
  {
   "cell_type": "code",
   "execution_count": 14,
   "metadata": {},
   "outputs": [
    {
     "name": "stdout",
     "output_type": "stream",
     "text": [
      "Степень полиноминальных характеристик - 6\n",
      "Смещение - False\n",
      "Порядок вывода в массиве - C\n"
     ]
    }
   ],
   "source": [
    "# Вариант 2\n",
    "pipe = Pipeline(steps=[('std_slc', StandardScaler()), \n",
    "                       ('pca', PCA()),\n",
    "                       ('poly', PolynomialFeatures()),\n",
    "                       ('linear_Reg', LinearRegression())])\n",
    "\n",
    "parameters = dict(pca__n_components=list(range(1,X.shape[1]+1,1)), \n",
    "                  poly__degree=list(range(1, 11, 1)), \n",
    "                  poly__include_bias=[True, False],\n",
    "                  poly__order=['C', 'F'])\n",
    "\n",
    "\n",
    "lf_GS = GridSearchCV(pipe, parameters)\n",
    "lf_GS.fit(X, y)\n",
    "\n",
    "degree, include_bias, order = (lf_GS.best_estimator_.get_params()['poly__degree'], \n",
    "                      lf_GS.best_estimator_.get_params()['poly__include_bias'], \n",
    "                      lf_GS.best_estimator_.get_params()['poly__order'])\n",
    "\n",
    "print(f'Степень полиноминальных характеристик - {degree}\\n\\\n",
    "Смещение - {include_bias}\\n\\\n",
    "Порядок вывода в массиве - {order}')"
   ]
  },
  {
   "cell_type": "code",
   "execution_count": 15,
   "metadata": {},
   "outputs": [
    {
     "name": "stdout",
     "output_type": "stream",
     "text": [
      "Наименьшая ошибка - 2.3839985482609905e-08\n"
     ]
    }
   ],
   "source": [
    "poly = PolynomialFeatures(degree=degree, include_bias=include_bias, order=order)\n",
    "X_poly = poly.fit_transform(X)\n",
    "reg = LinearRegression().fit(X_poly, y)\n",
    "pred_values = reg.predict(X_poly)\n",
    "error = mean_absolute_error(pred_values, y)\n",
    "print(f'Наименьшая ошибка - {error}')"
   ]
  }
 ],
 "metadata": {
  "kernelspec": {
   "display_name": "Python 3",
   "language": "python",
   "name": "python3"
  },
  "language_info": {
   "codemirror_mode": {
    "name": "ipython",
    "version": 3
   },
   "file_extension": ".py",
   "mimetype": "text/x-python",
   "name": "python",
   "nbconvert_exporter": "python",
   "pygments_lexer": "ipython3",
   "version": "3.7.6"
  }
 },
 "nbformat": 4,
 "nbformat_minor": 4
}
